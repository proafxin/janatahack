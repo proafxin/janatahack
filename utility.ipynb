{
 "cells": [
  {
   "cell_type": "code",
   "execution_count": 1,
   "metadata": {},
   "outputs": [],
   "source": [
    "from torch import from_numpy, Tensor\n",
    "from torch import (\n",
    "    nn,\n",
    "    randn,\n",
    "    optim,\n",
    "    zeros,\n",
    ")\n",
    "from os.path import join\n",
    "from os import getcwd\n",
    "from sklearn.model_selection import train_test_split\n",
    "from numpy import array\n",
    "from torch.cuda import is_available\n",
    "from sklearn.preprocessing import LabelEncoder\n",
    "from torch.nn.functional import one_hot\n",
    "\n",
    "import pandas as pd\n",
    "import numpy as np\n",
    "\n",
    "import torch"
   ]
  },
  {
   "cell_type": "code",
   "execution_count": 2,
   "metadata": {},
   "outputs": [],
   "source": [
    "pwd = getcwd()\n",
    "datadir = join(pwd, 'data/')\n",
    "file_train = join(datadir, 'train.csv')\n",
    "file_test = join(datadir, 'test.csv')\n",
    "file_challenge = join(datadir, 'challenge_data.csv')"
   ]
  },
  {
   "cell_type": "code",
   "execution_count": 3,
   "metadata": {},
   "outputs": [],
   "source": [
    "df_train = pd.read_csv(file_train)\n",
    "df_train['label'] = 1\n",
    "df_train = df_train.sort_values(by=['user_id', 'challenge_sequence'])\n",
    "df_test = pd.read_csv(file_test)\n",
    "df_test['label'] = 0\n",
    "df_test = df_test.sort_values(by=['user_id', 'challenge_sequence'])\n",
    "df = pd.concat([df_train, df_test])\n",
    "df = df.drop('user_sequence', axis=1)"
   ]
  },
  {
   "cell_type": "code",
   "execution_count": 4,
   "metadata": {},
   "outputs": [],
   "source": [
    "challenges = pd.read_csv(file_challenge)"
   ]
  },
  {
   "cell_type": "code",
   "execution_count": 5,
   "metadata": {},
   "outputs": [
    {
     "data": {
      "text/plain": [
       "(5606, 9)"
      ]
     },
     "execution_count": 5,
     "metadata": {},
     "output_type": "execute_result"
    }
   ],
   "source": [
    "challenges.shape"
   ]
  },
  {
   "cell_type": "code",
   "execution_count": 6,
   "metadata": {},
   "outputs": [],
   "source": [
    "drop_cols = [\n",
    "    'publish_date',\n",
    "    'author_gender',\n",
    "    'author_org_ID',\n",
    "    'author_ID',\n",
    "    'challenge_series_ID',\n",
    "]\n",
    "for col in drop_cols:\n",
    "    challenges = challenges.drop(col, axis=1)\n",
    "challenges = challenges.fillna(0)\n",
    "challenges['total_submissions'] = challenges['total_submissions'].astype(int)\n",
    "challenges['category_id'] = challenges['category_id'].astype(int)\n",
    "challenges = challenges.sort_values(by=['challenge_ID'])"
   ]
  },
  {
   "cell_type": "code",
   "execution_count": 7,
   "metadata": {},
   "outputs": [
    {
     "data": {
      "text/plain": [
       "(5606, 4)"
      ]
     },
     "execution_count": 7,
     "metadata": {},
     "output_type": "execute_result"
    }
   ],
   "source": [
    "challenges.shape"
   ]
  },
  {
   "cell_type": "code",
   "execution_count": 8,
   "metadata": {},
   "outputs": [],
   "source": [
    "df_join = pd.merge(\n",
    "    df,\n",
    "    challenges,\n",
    "    left_on=['challenge'],\n",
    "    right_on = ['challenge_ID'],\n",
    ")\n",
    "df_join = df_join.drop('challenge_ID', axis=1)\n",
    "df_join = df_join.drop('challenge', axis=1)\n",
    "df_join = df_join.sort_values(by=['user_id', 'challenge_sequence'])"
   ]
  },
  {
   "cell_type": "code",
   "execution_count": 9,
   "metadata": {},
   "outputs": [],
   "source": [
    "#le = LabelEncoder()\n",
    "#df_join['challenge'] = le.fit_transform(df_join['challenge'])"
   ]
  },
  {
   "cell_type": "code",
   "execution_count": 10,
   "metadata": {},
   "outputs": [
    {
     "data": {
      "text/html": [
       "<div>\n",
       "<style scoped>\n",
       "    .dataframe tbody tr th:only-of-type {\n",
       "        vertical-align: middle;\n",
       "    }\n",
       "\n",
       "    .dataframe tbody tr th {\n",
       "        vertical-align: top;\n",
       "    }\n",
       "\n",
       "    .dataframe thead th {\n",
       "        text-align: right;\n",
       "    }\n",
       "</style>\n",
       "<table border=\"1\" class=\"dataframe\">\n",
       "  <thead>\n",
       "    <tr style=\"text-align: right;\">\n",
       "      <th></th>\n",
       "      <th>user_id</th>\n",
       "      <th>challenge_sequence</th>\n",
       "      <th>label</th>\n",
       "      <th>programming_language</th>\n",
       "      <th>total_submissions</th>\n",
       "      <th>category_id</th>\n",
       "    </tr>\n",
       "  </thead>\n",
       "  <tbody>\n",
       "    <tr>\n",
       "      <th>0</th>\n",
       "      <td>4576</td>\n",
       "      <td>1</td>\n",
       "      <td>1</td>\n",
       "      <td>1</td>\n",
       "      <td>14723</td>\n",
       "      <td>29</td>\n",
       "    </tr>\n",
       "    <tr>\n",
       "      <th>12458</th>\n",
       "      <td>4576</td>\n",
       "      <td>2</td>\n",
       "      <td>1</td>\n",
       "      <td>1</td>\n",
       "      <td>20993</td>\n",
       "      <td>29</td>\n",
       "    </tr>\n",
       "    <tr>\n",
       "      <th>27642</th>\n",
       "      <td>4576</td>\n",
       "      <td>3</td>\n",
       "      <td>1</td>\n",
       "      <td>1</td>\n",
       "      <td>43409</td>\n",
       "      <td>66</td>\n",
       "    </tr>\n",
       "    <tr>\n",
       "      <th>40014</th>\n",
       "      <td>4576</td>\n",
       "      <td>4</td>\n",
       "      <td>1</td>\n",
       "      <td>1</td>\n",
       "      <td>8897</td>\n",
       "      <td>45</td>\n",
       "    </tr>\n",
       "    <tr>\n",
       "      <th>52091</th>\n",
       "      <td>4576</td>\n",
       "      <td>5</td>\n",
       "      <td>1</td>\n",
       "      <td>1</td>\n",
       "      <td>15086</td>\n",
       "      <td>31</td>\n",
       "    </tr>\n",
       "  </tbody>\n",
       "</table>\n",
       "</div>"
      ],
      "text/plain": [
       "       user_id  challenge_sequence  label  programming_language  \\\n",
       "0         4576                   1      1                     1   \n",
       "12458     4576                   2      1                     1   \n",
       "27642     4576                   3      1                     1   \n",
       "40014     4576                   4      1                     1   \n",
       "52091     4576                   5      1                     1   \n",
       "\n",
       "       total_submissions  category_id  \n",
       "0                  14723           29  \n",
       "12458              20993           29  \n",
       "27642              43409           66  \n",
       "40014               8897           45  \n",
       "52091              15086           31  "
      ]
     },
     "execution_count": 10,
     "metadata": {},
     "output_type": "execute_result"
    }
   ],
   "source": [
    "df_join.head()"
   ]
  },
  {
   "cell_type": "code",
   "execution_count": 11,
   "metadata": {},
   "outputs": [],
   "source": [
    "#len(df_join['challenge'].value_counts())"
   ]
  },
  {
   "cell_type": "code",
   "execution_count": 12,
   "metadata": {},
   "outputs": [
    {
     "data": {
      "text/plain": [
       "(1301236, 6)"
      ]
     },
     "execution_count": 12,
     "metadata": {},
     "output_type": "execute_result"
    }
   ],
   "source": [
    "df_join.shape"
   ]
  },
  {
   "cell_type": "code",
   "execution_count": 13,
   "metadata": {},
   "outputs": [],
   "source": [
    "tensor_data = Tensor(df_join.values)"
   ]
  },
  {
   "cell_type": "code",
   "execution_count": 14,
   "metadata": {},
   "outputs": [
    {
     "data": {
      "text/plain": [
       "torch.Size([1301236, 6])"
      ]
     },
     "execution_count": 14,
     "metadata": {},
     "output_type": "execute_result"
    }
   ],
   "source": [
    "tensor_data.shape"
   ]
  },
  {
   "cell_type": "code",
   "execution_count": 15,
   "metadata": {},
   "outputs": [
    {
     "data": {
      "text/plain": [
       "tensor([[4.5760e+03, 1.0000e+00, 1.0000e+00, 1.0000e+00, 1.4723e+04, 2.9000e+01],\n",
       "        [4.5760e+03, 2.0000e+00, 1.0000e+00, 1.0000e+00, 2.0993e+04, 2.9000e+01]])"
      ]
     },
     "execution_count": 15,
     "metadata": {},
     "output_type": "execute_result"
    }
   ],
   "source": [
    "tensor_data[:2]"
   ]
  },
  {
   "cell_type": "code",
   "execution_count": 16,
   "metadata": {},
   "outputs": [],
   "source": [
    "tensor_data = tensor_data.to(torch.int64)"
   ]
  },
  {
   "cell_type": "code",
   "execution_count": null,
   "metadata": {},
   "outputs": [],
   "source": []
  }
 ],
 "metadata": {
  "kernelspec": {
   "display_name": "Python 3",
   "language": "python",
   "name": "python3"
  },
  "language_info": {
   "codemirror_mode": {
    "name": "ipython",
    "version": 3
   },
   "file_extension": ".py",
   "mimetype": "text/x-python",
   "name": "python",
   "nbconvert_exporter": "python",
   "pygments_lexer": "ipython3",
   "version": "3.7.6"
  }
 },
 "nbformat": 4,
 "nbformat_minor": 4
}
