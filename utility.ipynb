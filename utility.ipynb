{
 "cells": [
  {
   "cell_type": "code",
   "execution_count": 1,
   "metadata": {},
   "outputs": [],
   "source": [
    "from torch import from_numpy, Tensor\n",
    "from torch import (\n",
    "    nn,\n",
    "    randn,\n",
    "    optim,\n",
    "    zeros,\n",
    ")\n",
    "from os.path import join\n",
    "from os import getcwd\n",
    "from sklearn.model_selection import train_test_split\n",
    "from numpy import array\n",
    "from torch.cuda import is_available\n",
    "\n",
    "import pandas as pd\n",
    "import numpy as np\n",
    "\n",
    "import torch"
   ]
  },
  {
   "cell_type": "code",
   "execution_count": 2,
   "metadata": {},
   "outputs": [],
   "source": [
    "pwd = getcwd()\n",
    "datadir = join(pwd, 'data/')\n",
    "file_train = join(datadir, 'train.csv')\n",
    "file_test = join(datadir, 'test.csv')\n",
    "file_challenge = join(datadir, 'challenge_data.csv')"
   ]
  },
  {
   "cell_type": "code",
   "execution_count": 3,
   "metadata": {},
   "outputs": [],
   "source": [
    "df_train = pd.read_csv(file_train)\n",
    "df_train['label'] = 'train'\n",
    "df_train = df_train.sort_values(by=['user_id', 'challenge_sequence'])\n",
    "df_test = pd.read_csv(file_test)\n",
    "df_test['label'] = 'test'\n",
    "df_test = df_test.sort_values(by=['user_id', 'challenge_sequence'])\n",
    "df = pd.concat([df_train, df_test])"
   ]
  }
 ],
 "metadata": {
  "kernelspec": {
   "display_name": "Python 3",
   "language": "python",
   "name": "python3"
  },
  "language_info": {
   "codemirror_mode": {
    "name": "ipython",
    "version": 3
   },
   "file_extension": ".py",
   "mimetype": "text/x-python",
   "name": "python",
   "nbconvert_exporter": "python",
   "pygments_lexer": "ipython3",
   "version": "3.7.6"
  }
 },
 "nbformat": 4,
 "nbformat_minor": 4
}
