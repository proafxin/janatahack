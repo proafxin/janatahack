{
 "cells": [
  {
   "cell_type": "code",
   "execution_count": 1,
   "metadata": {},
   "outputs": [],
   "source": [
    "from torch import from_numpy, Tensor\n",
    "from torch import (\n",
    "    nn,\n",
    "    randn,\n",
    "    optim,\n",
    "    zeros,\n",
    ")\n",
    "from os.path import join\n",
    "from os import getcwd\n",
    "from sklearn.model_selection import train_test_split\n",
    "from numpy import array\n",
    "from torch.cuda import is_available\n",
    "from sklearn.preprocessing import LabelEncoder\n",
    "\n",
    "import pandas as pd\n",
    "import numpy as np\n",
    "\n",
    "import torch"
   ]
  },
  {
   "cell_type": "code",
   "execution_count": 2,
   "metadata": {},
   "outputs": [],
   "source": [
    "pwd = getcwd()\n",
    "datadir = join(pwd, 'data/')\n",
    "file_train = join(datadir, 'train.csv')\n",
    "file_test = join(datadir, 'test.csv')\n",
    "file_challenge = join(datadir, 'challenge_data.csv')"
   ]
  },
  {
   "cell_type": "code",
   "execution_count": 3,
   "metadata": {},
   "outputs": [],
   "source": [
    "df_train = pd.read_csv(file_train)\n",
    "df_train['label'] = 1\n",
    "df_train = df_train.sort_values(by=['user_id', 'challenge_sequence'])\n",
    "df_test = pd.read_csv(file_test)\n",
    "df_test['label'] = 0\n",
    "df_test = df_test.sort_values(by=['user_id', 'challenge_sequence'])\n",
    "df = pd.concat([df_train, df_test])\n",
    "df = df.drop('user_sequence', axis=1)"
   ]
  },
  {
   "cell_type": "code",
   "execution_count": 4,
   "metadata": {},
   "outputs": [],
   "source": [
    "challenges = pd.read_csv(file_challenge)"
   ]
  },
  {
   "cell_type": "code",
   "execution_count": 5,
   "metadata": {},
   "outputs": [
    {
     "data": {
      "text/plain": [
       "(5606, 9)"
      ]
     },
     "execution_count": 5,
     "metadata": {},
     "output_type": "execute_result"
    }
   ],
   "source": [
    "challenges.shape"
   ]
  },
  {
   "cell_type": "code",
   "execution_count": 6,
   "metadata": {},
   "outputs": [],
   "source": [
    "drop_cols = [\n",
    "    'publish_date',\n",
    "    'author_gender',\n",
    "    'author_org_ID',\n",
    "    'author_ID',\n",
    "    'challenge_series_ID',\n",
    "]\n",
    "for col in drop_cols:\n",
    "    challenges = challenges.drop(col, axis=1)\n",
    "challenges = challenges.fillna(0)\n",
    "challenges['total_submissions'] = challenges['total_submissions'].astype(int)\n",
    "challenges['category_id'] = challenges['category_id'].astype(int)\n",
    "challenges = challenges.sort_values(by=['challenge_ID'])"
   ]
  },
  {
   "cell_type": "code",
   "execution_count": 7,
   "metadata": {},
   "outputs": [
    {
     "data": {
      "text/plain": [
       "(5606, 4)"
      ]
     },
     "execution_count": 7,
     "metadata": {},
     "output_type": "execute_result"
    }
   ],
   "source": [
    "challenges.shape"
   ]
  },
  {
   "cell_type": "code",
   "execution_count": 8,
   "metadata": {},
   "outputs": [],
   "source": [
    "df_join = pd.merge(\n",
    "    df,\n",
    "    challenges,\n",
    "    left_on=['challenge'],\n",
    "    right_on = ['challenge_ID'],\n",
    ")"
   ]
  },
  {
   "cell_type": "code",
   "execution_count": 9,
   "metadata": {},
   "outputs": [],
   "source": [
    "le = LabelEncoder()\n",
    "df_join['challenge_ID'] = le.fit_transform(df_join['challenge_ID'])"
   ]
  },
  {
   "cell_type": "code",
   "execution_count": 10,
   "metadata": {},
   "outputs": [
    {
     "data": {
      "text/html": [
       "<div>\n",
       "<style scoped>\n",
       "    .dataframe tbody tr th:only-of-type {\n",
       "        vertical-align: middle;\n",
       "    }\n",
       "\n",
       "    .dataframe tbody tr th {\n",
       "        vertical-align: top;\n",
       "    }\n",
       "\n",
       "    .dataframe thead th {\n",
       "        text-align: right;\n",
       "    }\n",
       "</style>\n",
       "<table border=\"1\" class=\"dataframe\">\n",
       "  <thead>\n",
       "    <tr style=\"text-align: right;\">\n",
       "      <th></th>\n",
       "      <th>user_id</th>\n",
       "      <th>challenge_sequence</th>\n",
       "      <th>challenge</th>\n",
       "      <th>label</th>\n",
       "      <th>challenge_ID</th>\n",
       "      <th>programming_language</th>\n",
       "      <th>total_submissions</th>\n",
       "      <th>category_id</th>\n",
       "    </tr>\n",
       "  </thead>\n",
       "  <tbody>\n",
       "    <tr>\n",
       "      <th>0</th>\n",
       "      <td>4576</td>\n",
       "      <td>1</td>\n",
       "      <td>CI23714</td>\n",
       "      <td>1</td>\n",
       "      <td>233</td>\n",
       "      <td>1</td>\n",
       "      <td>14723</td>\n",
       "      <td>29</td>\n",
       "    </tr>\n",
       "    <tr>\n",
       "      <th>1</th>\n",
       "      <td>4580</td>\n",
       "      <td>6</td>\n",
       "      <td>CI23714</td>\n",
       "      <td>1</td>\n",
       "      <td>233</td>\n",
       "      <td>1</td>\n",
       "      <td>14723</td>\n",
       "      <td>29</td>\n",
       "    </tr>\n",
       "    <tr>\n",
       "      <th>2</th>\n",
       "      <td>4582</td>\n",
       "      <td>8</td>\n",
       "      <td>CI23714</td>\n",
       "      <td>1</td>\n",
       "      <td>233</td>\n",
       "      <td>1</td>\n",
       "      <td>14723</td>\n",
       "      <td>29</td>\n",
       "    </tr>\n",
       "    <tr>\n",
       "      <th>3</th>\n",
       "      <td>4585</td>\n",
       "      <td>6</td>\n",
       "      <td>CI23714</td>\n",
       "      <td>1</td>\n",
       "      <td>233</td>\n",
       "      <td>1</td>\n",
       "      <td>14723</td>\n",
       "      <td>29</td>\n",
       "    </tr>\n",
       "    <tr>\n",
       "      <th>4</th>\n",
       "      <td>4590</td>\n",
       "      <td>6</td>\n",
       "      <td>CI23714</td>\n",
       "      <td>1</td>\n",
       "      <td>233</td>\n",
       "      <td>1</td>\n",
       "      <td>14723</td>\n",
       "      <td>29</td>\n",
       "    </tr>\n",
       "  </tbody>\n",
       "</table>\n",
       "</div>"
      ],
      "text/plain": [
       "   user_id  challenge_sequence challenge  label  challenge_ID  \\\n",
       "0     4576                   1   CI23714      1           233   \n",
       "1     4580                   6   CI23714      1           233   \n",
       "2     4582                   8   CI23714      1           233   \n",
       "3     4585                   6   CI23714      1           233   \n",
       "4     4590                   6   CI23714      1           233   \n",
       "\n",
       "   programming_language  total_submissions  category_id  \n",
       "0                     1              14723           29  \n",
       "1                     1              14723           29  \n",
       "2                     1              14723           29  \n",
       "3                     1              14723           29  \n",
       "4                     1              14723           29  "
      ]
     },
     "execution_count": 10,
     "metadata": {},
     "output_type": "execute_result"
    }
   ],
   "source": [
    "df_join.head()"
   ]
  },
  {
   "cell_type": "code",
   "execution_count": null,
   "metadata": {},
   "outputs": [],
   "source": []
  }
 ],
 "metadata": {
  "kernelspec": {
   "display_name": "Python 3",
   "language": "python",
   "name": "python3"
  },
  "language_info": {
   "codemirror_mode": {
    "name": "ipython",
    "version": 3
   },
   "file_extension": ".py",
   "mimetype": "text/x-python",
   "name": "python",
   "nbconvert_exporter": "python",
   "pygments_lexer": "ipython3",
   "version": "3.7.6"
  }
 },
 "nbformat": 4,
 "nbformat_minor": 4
}
